{
 "cells": [
  {
   "cell_type": "code",
   "execution_count": 1,
   "metadata": {
    "collapsed": true,
    "colab": {
     "base_uri": "https://localhost:8080/"
    },
    "id": "X4YFqZDPk8Ex",
    "outputId": "eb081e4f-98a1-486f-eca1-a2e2c081d3ab"
   },
   "outputs": [
    {
     "output_type": "stream",
     "name": "stdout",
     "text": [
      "Mounted at /content/drive/\n"
     ]
    }
   ],
   "source": [
    "# Imports and setup\n",
    "from google.colab import drive\n",
    "drive.mount('/content/drive/')\n",
    "import os\n",
    "os.chdir(\"/content/drive/MyDrive/Colab Notebooks/style_transfer/\")\n",
    "from network_builder import *\n",
    "import skimage as sk\n",
    "import skimage.io as skio\n",
    "from torch.optim import LBFGS\n",
    "import torch\n",
    "from matplotlib import pyplot as plt\n",
    "import numpy as np\n",
    "from torchvision.models import vgg19,VGG19_Weights\n",
    "from PIL.Image import open as load_image\n",
    "%load_ext autoreload\n",
    "%autoreload 2\n",
    "# Which device is available?\n",
    "if torch.cuda.is_available():\n",
    "    device='cuda'\n",
    "else:\n",
    "    device='cpu'"
   ]
  },
  {
   "cell_type": "code",
   "source": [
    "# dimensions of square input image\n",
    "im_size=512\n",
    "# Switch max_pool for avg_pool\n",
    "avg_pool=True\n",
    "\n",
    "# Input images\n",
    "content = 'sd'\n",
    "style = 'starry-night'\n",
    "# Weights should come from the VGG19 model. No further training necessary\n",
    "# we only want the 'features' portion of the VGG-19 model\n",
    "vgg_model=vgg19(weights=VGG19_Weights.IMAGENET1K_V1).features\n",
    "vgg_model.to(device)\n",
    "vgg_model.eval()\n",
    "\n",
    "# Normalization mean and standard deviation, used in first layer of model\n",
    "# Values taken from pytorch vgg19 webpage and are the normalization constants from the\n",
    "# original model\n",
    "mean=torch.tensor([0.485,0.456,0.406])\n",
    "std=torch.tensor([0.229,0.224,0.225])\n",
    "mean.to(device)\n",
    "std.to(device)\n",
    "\n",
    "# Weights for style and content\n",
    "w_style=1e6\n",
    "w_content=1e0\n",
    "\n",
    "# Import photos using SK Image into tensors\n",
    "im_content=load_image(im_dir+in_dir+content+'.jpg')\n",
    "im_style=load_image(im_dir+in_dir+style+'.jpg')\n",
    "# Preprocess\n",
    "im_content=preprocess(im_size)(im_content).unsqueeze(0).float().to(device)\n",
    "im_style=preprocess(im_size)(im_style).unsqueeze(0).float().to(device)\n",
    "im_target=im_content.clone()\n",
    "\n",
    "# Using L-BFGS optimizer, aka gradient descent in first and second derivative\n",
    "optimizer=LBFGS([im_target.requires_grad_()])\n",
    "\n",
    "# At which layers do we want to calculate style loss and content loss? Taken from paper\n",
    "style_layers=[1,2,3,4,5]\n",
    "content_layers=[4]\n",
    "\n",
    "content_loss_over_time=[]\n",
    "style_loss_over_time=[]\n",
    "# Set up modified model\n",
    "model,style_layers,content_layers=build_cnn(device,vgg_model,\n",
    "                                            mean,std,\n",
    "                                            im_style,im_content,\n",
    "                                            style_layers,content_layers,avg_pool\n",
    "                                            )\n",
    "n_epochs=100  # must be multiple of 20"
   ],
   "metadata": {
    "id": "UDLx77y3lmxy"
   },
   "execution_count": 54,
   "outputs": []
  },
  {
   "cell_type": "code",
   "source": [
    "while len(content_loss_over_time)<n_epochs:\n",
    "    # Closure loop for L-BFGS\n",
    "    def closure():\n",
    "        # Clip input image and run modified model on it\n",
    "        im_target.data.clamp_(0,1)\n",
    "        optimizer.zero_grad()\n",
    "        model(im_target)\n",
    "        # Calculate weighted loss of new image\n",
    "        style_loss=0\n",
    "        content_loss=0\n",
    "\n",
    "        for layer in style_layers:\n",
    "            style_loss+=layer.loss\n",
    "\n",
    "        for layer in content_layers:\n",
    "            content_loss+=layer.loss\n",
    "\n",
    "        content_loss_over_time.append(content_loss.item())\n",
    "        style_loss_over_time.append(style_loss.item())\n",
    "\n",
    "        loss=style_loss*w_style+content_loss*w_content\n",
    "        loss.backward()\n",
    "        if len(content_loss_over_time)%20==0:\n",
    "            print(\"Epoch {} Complete.\".format(len(content_loss_over_time)))\n",
    "            print(\"Content Loss: {:4f} Style Loss: {:4f}\".format(\n",
    "                content_loss.item() * w_content,\n",
    "                style_loss.item() * w_style\n",
    "            ))\n",
    "        return loss\n",
    "\n",
    "    optimizer.step(closure)\n",
    "\n",
    "# Clip to 0-1, save image\n",
    "im_target.data.clamp_(0,1)\n",
    "skio.imsave(im_dir+out_dir+content+'_'+style+'.jpg',sk.img_as_uint(im_target.detach().cpu().squeeze(0).permute(1,2,0)))\n",
    "\n",
    "# Plot loss\n",
    "cl=np.array(content_loss_over_time) * w_content\n",
    "sl=np.array(style_loss_over_time) * w_style\n",
    "plt.plot(cl)\n",
    "plt.plot(sl)\n",
    "plt.plot((cl*w_content+sl*w_style)/(w_content+w_style))\n",
    "plt.legend(['content loss','style loss','overall loss'])\n",
    "plt.xlabel('epoch')\n",
    "plt.title(\"Loss over time for generated image\")\n",
    "plt.savefig(im_dir+out_dir+\"{}_{}_loss.jpg\".format(content,style))"
   ],
   "metadata": {
    "colab": {
     "base_uri": "https://localhost:8080/",
     "height": 514
    },
    "id": "uv-Jt6Tsl4fl",
    "outputId": "452d59b1-6b9c-45ea-952d-4741d1a5e36e"
   },
   "execution_count": 55,
   "outputs": [
    {
     "output_type": "stream",
     "name": "stdout",
     "text": [
      "Epoch 20 Complete.\n",
      "Content Loss: 1.947984 Style Loss: 0.466938\n",
      "Epoch 40 Complete.\n",
      "Content Loss: 1.172207 Style Loss: 0.203497\n",
      "Epoch 60 Complete.\n",
      "Content Loss: 1.061034 Style Loss: 0.115363\n",
      "Epoch 80 Complete.\n",
      "Content Loss: 1.024452 Style Loss: 0.096066\n"
     ]
    },
    {
     "output_type": "stream",
     "name": "stderr",
     "text": [
      "WARNING:imageio:Lossy conversion from uint16 to uint8. Losing 8 bits of resolution. Convert image to uint8 prior to saving to suppress this warning.\n"
     ]
    },
    {
     "output_type": "stream",
     "name": "stdout",
     "text": [
      "Epoch 100 Complete.\n",
      "Content Loss: 1.008380 Style Loss: 0.094765\n"
     ]
    },
    {
     "output_type": "execute_result",
     "data": {
      "text/plain": [
       "Text(0.5, 1.0, 'Loss over time for generated image')"
      ]
     },
     "metadata": {},
     "execution_count": 55
    },
    {
     "output_type": "display_data",
     "data": {
      "text/plain": [
       "<Figure size 432x288 with 1 Axes>"
      ],
      "image/png": "[encoded data removed]"
     },
     "metadata": {
      "needs_background": "light"
     }
    }
   ]
  },
  {
   "cell_type": "code",
   "source": [
    "print(vgg_model[4])"
   ],
   "metadata": {
    "colab": {
     "base_uri": "https://localhost:8080/"
    },
    "id": "QknD6okumD2M",
    "outputId": "c9f01051-847c-494e-ca4b-56db88235e96"
   },
   "execution_count": 26,
   "outputs": [
    {
     "output_type": "stream",
     "name": "stdout",
     "text": [
      "MaxPool2d(kernel_size=2, stride=2, padding=0, dilation=1, ceil_mode=False)\n"
     ]
    }
   ]
  },
  {
   "cell_type": "code",
   "source": [
    "torch.nn.AvgPool2d(kernel_size=2)"
   ],
   "metadata": {
    "colab": {
     "base_uri": "https://localhost:8080/"
    },
    "id": "2VOYvDsr0dnh",
    "outputId": "bdb46814-a1f8-4157-e416-7d2cb4ed9a27"
   },
   "execution_count": 31,
   "outputs": [
    {
     "output_type": "execute_result",
     "data": {
      "text/plain": [
       "AvgPool2d(kernel_size=2, stride=2, padding=0)"
      ]
     },
     "metadata": {},
     "execution_count": 31
    }
   ]
  },
  {
   "cell_type": "code",
   "source": [],
   "metadata": {
    "id": "BpXQBbbp0px1"
   },
   "execution_count": null,
   "outputs": []
  }
 ],
 "metadata": {
  "kernelspec": {
   "display_name": "Python 3",
   "language": "python",
   "name": "python3"
  },
  "language_info": {
   "codemirror_mode": {
    "name": "ipython",
    "version": 2
   },
   "file_extension": ".py",
   "mimetype": "text/x-python",
   "name": "python",
   "nbconvert_exporter": "python",
   "pygments_lexer": "ipython2",
   "version": "2.7.6"
  },
  "colab": {
   "provenance": []
  },
  "accelerator": "GPU",
  "gpuClass": "standard"
 },
 "nbformat": 4,
 "nbformat_minor": 0
}